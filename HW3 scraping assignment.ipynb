{
 "cells": [
  {
   "cell_type": "code",
   "execution_count": 1,
   "id": "ac1551ed",
   "metadata": {},
   "outputs": [],
   "source": [
    "import requests\n",
    "from bs4 import BeautifulSoup\n",
    "import pandas as pd\n",
    "from datetime import datetime\n",
    "\n",
    "# Setting the URL for the ccny calendar\n",
    "url_college_schedule = 'https://www.ccny.cuny.edu/registrar/fall'"
   ]
  },
  {
   "cell_type": "code",
   "execution_count": 2,
   "id": "45c30f86",
   "metadata": {},
   "outputs": [],
   "source": [
    "# Function to handle date strings and convert them to date objects\n",
    "def parse_date(date_string):\n",
    "    if '2022' not in date_string:\n",
    "        date_string += \", 2021\"\n",
    "    if '-' not in date_string:  # Single date case\n",
    "        return [datetime.strptime(date_string, \"%B %d, %Y\").date()]\n",
    "    # Used to handle the date ranges\n",
    "    start_end = date_string.split(' - ')\n",
    "    start_date = datetime.strptime(start_end[0] + \", 2021\", \"%B %d, %Y\").date()\n",
    "    end_date = start_date.replace(day=int(start_end[1].split(',')[0]))\n",
    "    return [str(start_date) + \" to \" + str(end_date)]\n"
   ]
  },
  {
   "cell_type": "code",
   "execution_count": 3,
   "id": "2259761c",
   "metadata": {},
   "outputs": [],
   "source": [
    "def fetch_calendar_data(web_url):\n",
    "    response = requests.get(web_url)\n",
    "    content = BeautifulSoup(response.text, 'html.parser')\n",
    "    content.prettify()\n",
    "    return content.find('tbody')  "
   ]
  },
  {
   "cell_type": "code",
   "execution_count": null,
   "id": "f49361f8",
   "metadata": {},
   "outputs": [],
   "source": [
    "def generate_dataframe(calendar_table):\n",
    "    schedule_data = []\n",
    "    for row in calendar_table.find_all('tr'):\n",
    "        date_details = row.find('td', {'style': 'width:305px'}).get_text(strip=True)\n",
    "        week_day = row.find('td', {'style': 'width:327px'}).get_text(strip=True)\n",
    "        event_description = row.find('td', {'style': 'width:617px'}).get_text(strip=True)\n",
    "        schedule_data.append([date_details, week_day, event_description])\n",
    "    calendar_df = pd.DataFrame(schedule_data, columns=['dates', 'dow', 'text'])\n",
    "    calendar_df[\"dates\"] = calendar_df[\"dates\"].apply(parse_date)\n",
    "    calendar_df.set_index(\"dates\", inplace=True)\n",
    "    return calendar_df"
   ]
  }
 ],
 "metadata": {
  "kernelspec": {
   "display_name": "Python 3 (ipykernel)",
   "language": "python",
   "name": "python3"
  },
  "language_info": {
   "codemirror_mode": {
    "name": "ipython",
    "version": 3
   },
   "file_extension": ".py",
   "mimetype": "text/x-python",
   "name": "python",
   "nbconvert_exporter": "python",
   "pygments_lexer": "ipython3",
   "version": "3.9.16"
  }
 },
 "nbformat": 4,
 "nbformat_minor": 5
}
