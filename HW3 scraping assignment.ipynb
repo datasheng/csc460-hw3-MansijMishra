{
 "cells": [
  {
   "cell_type": "code",
   "execution_count": 1,
   "id": "5532e883",
   "metadata": {},
   "outputs": [],
   "source": [
    "import requests\n",
    "from bs4 import BeautifulSoup\n",
    "import pandas as pd\n",
    "from datetime import datetime\n",
    "\n",
    "# Setting the URL for the ccny calendar\n",
    "url_college_schedule = 'https://www.ccny.cuny.edu/registrar/fall'"
   ]
  },
  {
   "cell_type": "code",
   "execution_count": 2,
   "id": "74d8b4ee",
   "metadata": {},
   "outputs": [],
   "source": [
    "# Function to handle date strings and convert them to date objects\n",
    "def parse_date(date_string):\n",
    "    if '2022' not in date_string:\n",
    "        date_string += \", 2021\"\n",
    "    if '-' not in date_string:  # Single date case\n",
    "        return [datetime.strptime(date_string, \"%B %d, %Y\").date()]\n",
    "    # Used to handle the date ranges\n",
    "    start_end = date_string.split(' - ')\n",
    "    start_date = datetime.strptime(start_end[0] + \", 2021\", \"%B %d, %Y\").date()\n",
    "    end_date = start_date.replace(day=int(start_end[1].split(',')[0]))\n",
    "    return [str(start_date) + \" to \" + str(end_date)]\n"
   ]
  },
  {
   "cell_type": "code",
   "execution_count": 3,
   "id": "e88945ef",
   "metadata": {},
   "outputs": [],
   "source": [
    "def fetch_calendar_data(web_url):\n",
    "    response = requests.get(web_url)\n",
    "    content = BeautifulSoup(response.text, 'html.parser')\n",
    "    content.prettify()\n",
    "    return content.find('tbody')  "
   ]
  },
  {
   "cell_type": "code",
   "execution_count": 4,
   "id": "af7aa6e4",
   "metadata": {},
   "outputs": [],
   "source": [
    "def generate_dataframe(calendar_table):\n",
    "    schedule_data = []\n",
    "    for row in calendar_table.find_all('tr'):\n",
    "        date_details = row.find('td', {'style': 'width:305px'}).get_text(strip=True)\n",
    "        week_day = row.find('td', {'style': 'width:327px'}).get_text(strip=True)\n",
    "        event_description = row.find('td', {'style': 'width:617px'}).get_text(strip=True)\n",
    "        schedule_data.append([date_details, week_day, event_description])\n",
    "    calendar_df = pd.DataFrame(schedule_data, columns=['dates', 'dow', 'text'])\n",
    "    calendar_df[\"dates\"] = calendar_df[\"dates\"].apply(parse_date)\n",
    "    calendar_df.set_index(\"dates\", inplace=True)\n",
    "    return calendar_df"
   ]
  },
  {
   "cell_type": "code",
   "execution_count": 5,
   "id": "dbad5a8a",
   "metadata": {},
   "outputs": [
    {
     "name": "stdout",
     "output_type": "stream",
     "text": [
      "                                             dow  \\\n",
      "dates                                              \n",
      "[2021-08-01]                              Sunday   \n",
      "[2021-08-18]                           Wednesday   \n",
      "[2021-08-24]                             Tuesday   \n",
      "[2021-08-25]                           Wednesday   \n",
      "[2021-08-25 to 2021-08-31]   Wednesday - Tuesday   \n",
      "[2021-08-26]                            Thursday   \n",
      "[2021-08-28]                            Saturday   \n",
      "[2021-08-31]                             Tuesday   \n",
      "[2021-09-01]                           Wednesday   \n",
      "[2021-09-03 to 2021-09-08]    Friday - Wednesday   \n",
      "[2021-09-06]                              Monday   \n",
      "[2021-09-09]                            Thursday   \n",
      "[2021-09-14]                             Tuesday   \n",
      "[2021-09-15]                           Wednesday   \n",
      "[2021-09-15 to 2021-09-16]  Wednesday - Thursday   \n",
      "[2021-09-23]                            Thursday   \n",
      "[2021-09-24]                              Friday   \n",
      "[2021-10-01]                              Friday   \n",
      "[2021-10-08]                              Friday   \n",
      "[2021-10-11]                              Monday   \n",
      "[2021-11-01]                              Monday   \n",
      "[2021-11-02]                             Tuesday   \n",
      "[2021-11-04]                            Thursday   \n",
      "[2021-11-06]                            Saturday   \n",
      "[2021-11-23]                             Tuesday   \n",
      "[2021-11-25 to 2021-11-28]     Thursday - Sunday   \n",
      "[2021-12-11]                            Saturday   \n",
      "[2021-12-13]                              Monday   \n",
      "[2021-12-14]                             Tuesday   \n",
      "[2021-12-15 to 2021-12-21]   Wednesday - Tuesday   \n",
      "[2021-12-21]                             Tuesday   \n",
      "[2021-12-24 to 2021-12-25]     Friday - Saturday   \n",
      "[2021-12-27]                              Monday   \n",
      "[2021-12-28]                             Tuesday   \n",
      "[2021-12-31]                              Friday   \n",
      "[2022-01-01]                            Saturday   \n",
      "\n",
      "                                                                         text  \n",
      "dates                                                                          \n",
      "[2021-08-01]                Application for degree for January and Februar...  \n",
      "[2021-08-18]                               Last day to apply for Study Abroad  \n",
      "[2021-08-24]                Last day of Registration;Last day to file ePer...  \n",
      "[2021-08-25]                Start of Fall Term;Classes begin;Initial Regis...  \n",
      "[2021-08-25 to 2021-08-31]          Change of program period; late fees apply  \n",
      "[2021-08-26]                                   Last day for Independent Study  \n",
      "[2021-08-28]                                    First day of Saturday Classes  \n",
      "[2021-08-31]                Last day to add a class to an existing enrollm...  \n",
      "[2021-09-01]                Verification of Enrollment rosters available t...  \n",
      "[2021-09-03 to 2021-09-08]                               No classes scheduled  \n",
      "[2021-09-06]                  College Closed;Last day for 50% tuition refund;  \n",
      "[2021-09-09]                                             Freshman Convocation  \n",
      "[2021-09-14]                Last day for 25% tuition refund;Census date;La...  \n",
      "[2021-09-15]                Assignment of 'WN' grades for non-attendance;C...  \n",
      "[2021-09-15 to 2021-09-16]                               No classes scheduled  \n",
      "[2021-09-23]                Last day to submit proof of immunization for N...  \n",
      "[2021-09-24]                Assignment of 'WA' grades for immunization non...  \n",
      "[2021-10-01]                Advising month begins for Spring and Winter en...  \n",
      "[2021-10-08]                Deadline for filing application for degree for...  \n",
      "[2021-10-11]                                                   College Closed  \n",
      "[2021-11-01]                'INC' grades for Spring 2021 and Winter 2021 f...  \n",
      "[2021-11-02]                Registration appointments for Winter and Sprin...  \n",
      "[2021-11-04]                                 Last day to file for P/NC option  \n",
      "[2021-11-06]                                             60% Date of the term  \n",
      "[2021-11-23]                'INC' grades for Summer 2021 for Undergraduate...  \n",
      "[2021-11-25 to 2021-11-28]                                     College Closed  \n",
      "[2021-12-11]                                     Last day of Saturday Classes  \n",
      "[2021-12-13]                Course Withdrawal period ends (Last day to wit...  \n",
      "[2021-12-14]                                                      Reading Day  \n",
      "[2021-12-15 to 2021-12-21]                                 Final Examinations  \n",
      "[2021-12-21]                                                      End of Term  \n",
      "[2021-12-24 to 2021-12-25]                                     College Closed  \n",
      "[2021-12-27]                                                   College Closed  \n",
      "[2021-12-28]                    Final Grade Submission Deadline for Fall 2021  \n",
      "[2021-12-31]                                                   College Closed  \n",
      "[2022-01-01]                  College Closed;Fall 2021 Degree Conferral Date;  \n"
     ]
    }
   ],
   "source": [
    "scraped_data = fetch_calendar_data(url_college_schedule)\n",
    "\n",
    "college_calendar = generate_dataframe(scraped_data)\n",
    "\n",
    "print(college_calendar.head(50))"
   ]
  }
 ],
 "metadata": {
  "kernelspec": {
   "display_name": "Python 3 (ipykernel)",
   "language": "python",
   "name": "python3"
  },
  "language_info": {
   "codemirror_mode": {
    "name": "ipython",
    "version": 3
   },
   "file_extension": ".py",
   "mimetype": "text/x-python",
   "name": "python",
   "nbconvert_exporter": "python",
   "pygments_lexer": "ipython3",
   "version": "3.9.16"
  }
 },
 "nbformat": 4,
 "nbformat_minor": 5
}
